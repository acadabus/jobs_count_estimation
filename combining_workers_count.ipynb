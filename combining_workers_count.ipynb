{
 "cells": [
  {
   "cell_type": "code",
   "execution_count": 10,
   "id": "0d4e5784-93d7-472b-a987-f93a44f50b9d",
   "metadata": {},
   "outputs": [],
   "source": [
    "import json\n",
    "from tqdm.notebook import tqdm"
   ]
  },
  {
   "cell_type": "code",
   "execution_count": 2,
   "id": "47c63ec4-f285-4af4-8765-498424ba2c1b",
   "metadata": {},
   "outputs": [],
   "source": [
    "reestr_little_fns = json.load(open('reestr_little_medium_fns.json', 'r'))\n",
    "reestr_little_fns_dict = {i['inn']: i['workers_count'] for i in reestr_little_fns}"
   ]
  },
  {
   "cell_type": "code",
   "execution_count": 3,
   "id": "de50f0ce-9794-4a6c-b094-f32cc5916582",
   "metadata": {},
   "outputs": [],
   "source": [
    "reestr_inns = set([i['inn'] for i in reestr_little_fns])"
   ]
  },
  {
   "cell_type": "code",
   "execution_count": 4,
   "id": "f165e5d1-a4e6-4ceb-a844-2a5da0a4d515",
   "metadata": {},
   "outputs": [],
   "source": [
    "workers_count_fns = json.load(open('workers_count_fns.json', 'r'))\n",
    "workers_count_fns_dict = {i['inn']: int(i['work_places_count']) for i in workers_count_fns}"
   ]
  },
  {
   "cell_type": "code",
   "execution_count": 5,
   "id": "0f501049-c16e-468b-84db-9884862cf5ed",
   "metadata": {},
   "outputs": [
    {
     "data": {
      "text/plain": [
       "2069504"
      ]
     },
     "execution_count": 5,
     "metadata": {},
     "output_type": "execute_result"
    }
   ],
   "source": [
    "len(workers_count_fns)"
   ]
  },
  {
   "cell_type": "code",
   "execution_count": 6,
   "id": "50ac8770-3644-4823-8f9b-f8c33c270908",
   "metadata": {},
   "outputs": [],
   "source": [
    "combined_workers_count = workers_count_fns_dict.copy()"
   ]
  },
  {
   "cell_type": "code",
   "execution_count": 11,
   "id": "27cc79f8-acc3-4e54-a2d9-ecd8bde5a868",
   "metadata": {},
   "outputs": [
    {
     "data": {
      "application/vnd.jupyter.widget-view+json": {
       "model_id": "d1402236670f48ca8878d17a236da824",
       "version_major": 2,
       "version_minor": 0
      },
      "text/plain": [
       "  0%|          | 0/1660706 [00:00<?, ?it/s]"
      ]
     },
     "metadata": {},
     "output_type": "display_data"
    }
   ],
   "source": [
    "for inn in tqdm(reestr_inns):\n",
    "    if inn not in combined_workers_count or combined_workers_count[inn] == 0:\n",
    "        combined_workers_count[inn] = reestr_little_fns_dict[inn]"
   ]
  },
  {
   "cell_type": "code",
   "execution_count": 12,
   "id": "b1e13dbc-4c7a-4154-afc5-8322e0b420f3",
   "metadata": {},
   "outputs": [
    {
     "data": {
      "text/plain": [
       "2159614"
      ]
     },
     "execution_count": 12,
     "metadata": {},
     "output_type": "execute_result"
    }
   ],
   "source": [
    "len(combined_workers_count)"
   ]
  },
  {
   "cell_type": "code",
   "execution_count": null,
   "id": "806eaef4-3cd9-445d-acb7-a535810c64c0",
   "metadata": {},
   "outputs": [],
   "source": [
    "json.dump(combined_workers_count, open('combined_workers_count.json', 'w'))"
   ]
  },
  {
   "cell_type": "code",
   "execution_count": null,
   "id": "93380078-f247-4644-8712-d45e695e51b4",
   "metadata": {},
   "outputs": [],
   "source": [
    "from datasets import Dataset\n",
    "rfsd=Dataset.load_from_disk('rfsd_actual_v3/')"
   ]
  },
  {
   "cell_type": "code",
   "execution_count": null,
   "id": "9c3f034a-0677-4390-8968-101131d2e97f",
   "metadata": {},
   "outputs": [],
   "source": [
    "rfsd_inns = rfsd['inn']"
   ]
  },
  {
   "cell_type": "code",
   "execution_count": null,
   "id": "b262c52e-ff60-4776-b620-615ed80e902e",
   "metadata": {},
   "outputs": [],
   "source": [
    "workers_count_by_comp = [combined_workers_count.get(i, None) for i in rfsd_inns]"
   ]
  },
  {
   "cell_type": "code",
   "execution_count": null,
   "id": "17decedc-13ea-4832-9f1d-d86d16d5ba8d",
   "metadata": {},
   "outputs": [],
   "source": [
    "rfsd = rfsd.add_column(name=\"workers_count\", column=workers_count_by_comp)"
   ]
  },
  {
   "cell_type": "code",
   "execution_count": null,
   "id": "594e2091-c300-4fb2-be23-78e0241f4079",
   "metadata": {},
   "outputs": [],
   "source": [
    "rfsd.save_to_disk('rfsd_actual_v3/')"
   ]
  }
 ],
 "metadata": {
  "kernelspec": {
   "display_name": "Python 3 (ipykernel)",
   "language": "python",
   "name": "python3"
  },
  "language_info": {
   "codemirror_mode": {
    "name": "ipython",
    "version": 3
   },
   "file_extension": ".py",
   "mimetype": "text/x-python",
   "name": "python",
   "nbconvert_exporter": "python",
   "pygments_lexer": "ipython3",
   "version": "3.12.8"
  }
 },
 "nbformat": 4,
 "nbformat_minor": 5
}
