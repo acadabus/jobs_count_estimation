{
 "cells": [
  {
   "cell_type": "code",
   "execution_count": 4,
   "id": "ca5a4257-7427-4570-b1c7-424f753c108c",
   "metadata": {},
   "outputs": [
    {
     "data": {
      "application/vnd.jupyter.widget-view+json": {
       "model_id": "8df23b94af4c47f393cc20c3bef59469",
       "version_major": 2,
       "version_minor": 0
      },
      "text/plain": [
       "  0%|          | 0/13 [00:00<?, ?it/s]"
      ]
     },
     "metadata": {},
     "output_type": "display_data"
    }
   ],
   "source": [
    "import polars as pl\n",
    "import os\n",
    "from tqdm.notebook import tqdm\n",
    "\n",
    "base_path = \"RFSD\"\n",
    "dfs = []\n",
    "\n",
    "good_corr_lines = ['line_1230',\n",
    " 'line_1250',\n",
    " 'line_1500',\n",
    " 'line_1520',\n",
    " 'line_2110',\n",
    " 'line_2120',\n",
    " 'line_2200',\n",
    " 'line_2300',\n",
    " 'line_2350',\n",
    " 'line_2400',\n",
    " 'line_2500']\n",
    "\n",
    "needed_initial_cols = ['inn', 'year', 'region', 'region_taxcode', 'age', 'dissolution_date', 'filed', 'okved', 'okved_section', 'okopf', 'okogu', 'okfc', 'lon', 'lat', 'geocoding_quality'] + good_corr_lines\n",
    "\n",
    "with pl.StringCache():\n",
    "    for folder_name in tqdm(os.listdir(base_path)):\n",
    "        if folder_name.startswith(\"year=\"):\n",
    "            year = int(folder_name.split(\"=\")[1])\n",
    "            # if year == 2023:\n",
    "            folder_path = os.path.join(base_path, folder_name)\n",
    "            df = pl.read_parquet(os.path.join(folder_path, \"*.parquet\"))\n",
    "            df = df.with_columns(pl.lit(year).alias(\"year\"))\n",
    "            df = df.filter(pl.col('inn').is_not_null() & pl.col('region').is_not_null() & (pl.col('outlier') == 0))\n",
    "            minified = df.select(needed_initial_cols)\n",
    "\n",
    "            del df\n",
    "            \n",
    "            dfs.append(minified.to_pandas())\n",
    "\n",
    "            del minified\n",
    "            \n",
    "    # RFSD = pd.DataFrame.concat(dfs)"
   ]
  },
  {
   "cell_type": "code",
   "execution_count": 5,
   "id": "1db23551-9123-47cc-9c1c-a138fe1d12f7",
   "metadata": {},
   "outputs": [],
   "source": [
    "import pandas as pd"
   ]
  },
  {
   "cell_type": "code",
   "execution_count": 6,
   "id": "5e62c58a-70c1-4375-866b-58f0bdbf1073",
   "metadata": {},
   "outputs": [
    {
     "name": "stderr",
     "output_type": "stream",
     "text": [
      "/tmp/ipykernel_2126/111979488.py:1: FutureWarning: The behavior of DataFrame concatenation with empty or all-NA entries is deprecated. In a future version, this will no longer exclude empty or all-NA columns when determining the result dtypes. To retain the old behavior, exclude the relevant entries before the concat operation.\n",
      "  main_df = pd.concat(dfs)\n"
     ]
    }
   ],
   "source": [
    "main_df = pd.concat(dfs)"
   ]
  },
  {
   "cell_type": "code",
   "execution_count": 7,
   "id": "6df555ee-02dd-4bf7-ade2-6ce7acb6b954",
   "metadata": {},
   "outputs": [
    {
     "data": {
      "text/plain": [
       "56413605"
      ]
     },
     "execution_count": 7,
     "metadata": {},
     "output_type": "execute_result"
    }
   ],
   "source": [
    "len(main_df)"
   ]
  },
  {
   "cell_type": "code",
   "execution_count": 8,
   "id": "1d6b1467-4d12-4b69-aa2f-8f97118e2b9e",
   "metadata": {},
   "outputs": [],
   "source": [
    "sorted_by_year = main_df.sort_values(by='year')"
   ]
  },
  {
   "cell_type": "code",
   "execution_count": 11,
   "id": "6f1a8d0b-2ca7-4bff-90f6-8c953ee7b734",
   "metadata": {},
   "outputs": [],
   "source": [
    "import json\n",
    "combined_workers_count = json.load(open('combined_workers_count.json', 'r'))\n",
    "\n",
    "workers_count_by_comp = [combined_workers_count.get(str(i), None) for i in sorted_by_year.inn]"
   ]
  },
  {
   "cell_type": "code",
   "execution_count": 12,
   "id": "e3585722-0ed7-45bc-8c82-32bca2028c7c",
   "metadata": {},
   "outputs": [],
   "source": [
    "sorted_by_year['workers_count'] = workers_count_by_comp"
   ]
  },
  {
   "cell_type": "code",
   "execution_count": 13,
   "id": "7a0d984f-1de8-410b-a2ab-857da716f7f2",
   "metadata": {},
   "outputs": [],
   "source": [
    "actual = sorted_by_year[(sorted_by_year.filed == 1) | (sorted_by_year.workers_count.isnull() == False)].drop_duplicates('inn', keep='last')"
   ]
  },
  {
   "cell_type": "code",
   "execution_count": 14,
   "id": "fc7042d6-dce1-45f6-9bd5-098681f181c1",
   "metadata": {},
   "outputs": [],
   "source": [
    "actual = actual.reset_index(drop=True)\n"
   ]
  },
  {
   "cell_type": "code",
   "execution_count": 15,
   "id": "9776b537-7646-41a8-8822-366b66c2f81b",
   "metadata": {},
   "outputs": [
    {
     "data": {
      "text/plain": [
       "5038803"
      ]
     },
     "execution_count": 15,
     "metadata": {},
     "output_type": "execute_result"
    }
   ],
   "source": [
    "len(actual)"
   ]
  },
  {
   "cell_type": "code",
   "execution_count": 16,
   "id": "5c456968-ff31-4d90-aab7-cb97c9a02638",
   "metadata": {},
   "outputs": [
    {
     "data": {
      "text/html": [
       "<div>\n",
       "<style scoped>\n",
       "    .dataframe tbody tr th:only-of-type {\n",
       "        vertical-align: middle;\n",
       "    }\n",
       "\n",
       "    .dataframe tbody tr th {\n",
       "        vertical-align: top;\n",
       "    }\n",
       "\n",
       "    .dataframe thead th {\n",
       "        text-align: right;\n",
       "    }\n",
       "</style>\n",
       "<table border=\"1\" class=\"dataframe\">\n",
       "  <thead>\n",
       "    <tr style=\"text-align: right;\">\n",
       "      <th></th>\n",
       "      <th>inn</th>\n",
       "      <th>year</th>\n",
       "      <th>region</th>\n",
       "      <th>region_taxcode</th>\n",
       "      <th>age</th>\n",
       "      <th>dissolution_date</th>\n",
       "      <th>filed</th>\n",
       "      <th>okved</th>\n",
       "      <th>okved_section</th>\n",
       "      <th>okopf</th>\n",
       "      <th>...</th>\n",
       "      <th>line_1500</th>\n",
       "      <th>line_1520</th>\n",
       "      <th>line_2110</th>\n",
       "      <th>line_2120</th>\n",
       "      <th>line_2200</th>\n",
       "      <th>line_2300</th>\n",
       "      <th>line_2350</th>\n",
       "      <th>line_2400</th>\n",
       "      <th>line_2500</th>\n",
       "      <th>workers_count</th>\n",
       "    </tr>\n",
       "  </thead>\n",
       "  <tbody>\n",
       "    <tr>\n",
       "      <th>0</th>\n",
       "      <td>7842356811</td>\n",
       "      <td>2011</td>\n",
       "      <td>sankt-petersburg</td>\n",
       "      <td>78</td>\n",
       "      <td>4.0</td>\n",
       "      <td>2011-09-14</td>\n",
       "      <td>0.0</td>\n",
       "      <td>47.91.20</td>\n",
       "      <td>G</td>\n",
       "      <td>None</td>\n",
       "      <td>...</td>\n",
       "      <td>NaN</td>\n",
       "      <td>NaN</td>\n",
       "      <td>NaN</td>\n",
       "      <td>NaN</td>\n",
       "      <td>NaN</td>\n",
       "      <td>NaN</td>\n",
       "      <td>NaN</td>\n",
       "      <td>NaN</td>\n",
       "      <td>NaN</td>\n",
       "      <td>1.0</td>\n",
       "    </tr>\n",
       "    <tr>\n",
       "      <th>1</th>\n",
       "      <td>7838455351</td>\n",
       "      <td>2011</td>\n",
       "      <td>moscow city</td>\n",
       "      <td>78</td>\n",
       "      <td>0.0</td>\n",
       "      <td>NaT</td>\n",
       "      <td>0.0</td>\n",
       "      <td>64.99.10</td>\n",
       "      <td>K</td>\n",
       "      <td>12300</td>\n",
       "      <td>...</td>\n",
       "      <td>NaN</td>\n",
       "      <td>NaN</td>\n",
       "      <td>NaN</td>\n",
       "      <td>NaN</td>\n",
       "      <td>NaN</td>\n",
       "      <td>NaN</td>\n",
       "      <td>NaN</td>\n",
       "      <td>NaN</td>\n",
       "      <td>NaN</td>\n",
       "      <td>1.0</td>\n",
       "    </tr>\n",
       "    <tr>\n",
       "      <th>2</th>\n",
       "      <td>7805196817</td>\n",
       "      <td>2011</td>\n",
       "      <td>sankt-petersburg</td>\n",
       "      <td>78</td>\n",
       "      <td>10.0</td>\n",
       "      <td>2011-02-03</td>\n",
       "      <td>0.0</td>\n",
       "      <td>None</td>\n",
       "      <td>NaN</td>\n",
       "      <td>None</td>\n",
       "      <td>...</td>\n",
       "      <td>NaN</td>\n",
       "      <td>NaN</td>\n",
       "      <td>NaN</td>\n",
       "      <td>NaN</td>\n",
       "      <td>NaN</td>\n",
       "      <td>NaN</td>\n",
       "      <td>NaN</td>\n",
       "      <td>NaN</td>\n",
       "      <td>NaN</td>\n",
       "      <td>0.0</td>\n",
       "    </tr>\n",
       "    <tr>\n",
       "      <th>3</th>\n",
       "      <td>7731627713</td>\n",
       "      <td>2011</td>\n",
       "      <td>moscow city</td>\n",
       "      <td>77</td>\n",
       "      <td>2.0</td>\n",
       "      <td>NaT</td>\n",
       "      <td>0.0</td>\n",
       "      <td>46.72.23</td>\n",
       "      <td>G</td>\n",
       "      <td>12300</td>\n",
       "      <td>...</td>\n",
       "      <td>NaN</td>\n",
       "      <td>NaN</td>\n",
       "      <td>NaN</td>\n",
       "      <td>NaN</td>\n",
       "      <td>NaN</td>\n",
       "      <td>NaN</td>\n",
       "      <td>NaN</td>\n",
       "      <td>NaN</td>\n",
       "      <td>NaN</td>\n",
       "      <td>1.0</td>\n",
       "    </tr>\n",
       "    <tr>\n",
       "      <th>4</th>\n",
       "      <td>7727682302</td>\n",
       "      <td>2011</td>\n",
       "      <td>moscow city</td>\n",
       "      <td>77</td>\n",
       "      <td>2.0</td>\n",
       "      <td>2011-03-17</td>\n",
       "      <td>0.0</td>\n",
       "      <td>58</td>\n",
       "      <td>J</td>\n",
       "      <td>None</td>\n",
       "      <td>...</td>\n",
       "      <td>NaN</td>\n",
       "      <td>NaN</td>\n",
       "      <td>NaN</td>\n",
       "      <td>NaN</td>\n",
       "      <td>NaN</td>\n",
       "      <td>NaN</td>\n",
       "      <td>NaN</td>\n",
       "      <td>NaN</td>\n",
       "      <td>NaN</td>\n",
       "      <td>1.0</td>\n",
       "    </tr>\n",
       "  </tbody>\n",
       "</table>\n",
       "<p>5 rows × 27 columns</p>\n",
       "</div>"
      ],
      "text/plain": [
       "          inn  year            region region_taxcode   age dissolution_date  \\\n",
       "0  7842356811  2011  sankt-petersburg             78   4.0       2011-09-14   \n",
       "1  7838455351  2011       moscow city             78   0.0              NaT   \n",
       "2  7805196817  2011  sankt-petersburg             78  10.0       2011-02-03   \n",
       "3  7731627713  2011       moscow city             77   2.0              NaT   \n",
       "4  7727682302  2011       moscow city             77   2.0       2011-03-17   \n",
       "\n",
       "   filed     okved okved_section  okopf  ... line_1500 line_1520 line_2110  \\\n",
       "0    0.0  47.91.20             G   None  ...       NaN       NaN       NaN   \n",
       "1    0.0  64.99.10             K  12300  ...       NaN       NaN       NaN   \n",
       "2    0.0      None           NaN   None  ...       NaN       NaN       NaN   \n",
       "3    0.0  46.72.23             G  12300  ...       NaN       NaN       NaN   \n",
       "4    0.0        58             J   None  ...       NaN       NaN       NaN   \n",
       "\n",
       "  line_2120 line_2200  line_2300  line_2350  line_2400  line_2500  \\\n",
       "0       NaN       NaN        NaN        NaN        NaN        NaN   \n",
       "1       NaN       NaN        NaN        NaN        NaN        NaN   \n",
       "2       NaN       NaN        NaN        NaN        NaN        NaN   \n",
       "3       NaN       NaN        NaN        NaN        NaN        NaN   \n",
       "4       NaN       NaN        NaN        NaN        NaN        NaN   \n",
       "\n",
       "   workers_count  \n",
       "0            1.0  \n",
       "1            1.0  \n",
       "2            0.0  \n",
       "3            1.0  \n",
       "4            1.0  \n",
       "\n",
       "[5 rows x 27 columns]"
      ]
     },
     "execution_count": 16,
     "metadata": {},
     "output_type": "execute_result"
    }
   ],
   "source": [
    "actual.head()"
   ]
  },
  {
   "cell_type": "code",
   "execution_count": 17,
   "id": "a88da376-0b43-4749-bd39-ef36cb30bd93",
   "metadata": {},
   "outputs": [],
   "source": [
    "actual.to_csv('rfsd_data_with_workers_and_historical_data.csv')"
   ]
  },
  {
   "cell_type": "code",
   "execution_count": 18,
   "id": "8d290944-6732-4a26-b9dd-cdfb02267de6",
   "metadata": {},
   "outputs": [],
   "source": [
    "actual = actual[actual.dissolution_date.isnull()]"
   ]
  },
  {
   "cell_type": "code",
   "execution_count": 19,
   "id": "8c504d20-303b-48dc-9954-55cba7530825",
   "metadata": {},
   "outputs": [
    {
     "data": {
      "text/plain": [
       "2656150"
      ]
     },
     "execution_count": 19,
     "metadata": {},
     "output_type": "execute_result"
    }
   ],
   "source": [
    "len(actual)"
   ]
  },
  {
   "cell_type": "code",
   "execution_count": 20,
   "id": "18a08b11-295b-43cd-a9db-b087265462e0",
   "metadata": {},
   "outputs": [
    {
     "data": {
      "text/plain": [
       "1777874"
      ]
     },
     "execution_count": 20,
     "metadata": {},
     "output_type": "execute_result"
    }
   ],
   "source": [
    "len(actual[actual.workers_count > 0])"
   ]
  },
  {
   "cell_type": "code",
   "execution_count": 21,
   "id": "88270a09-1f2e-409c-9506-ded307ac60f8",
   "metadata": {},
   "outputs": [
    {
     "data": {
      "text/plain": [
       "np.float64(19020429.0)"
      ]
     },
     "execution_count": 21,
     "metadata": {},
     "output_type": "execute_result"
    }
   ],
   "source": [
    "actual.workers_count.sum()"
   ]
  },
  {
   "cell_type": "code",
   "execution_count": 23,
   "id": "4173373f-564c-4445-8640-ae3459dc5620",
   "metadata": {},
   "outputs": [],
   "source": [
    "needed_test_cols = ['inn', 'region', 'region_taxcode', 'age', 'okved', 'okved_section', 'okopf', 'okogu', 'okfc'] + good_corr_lines"
   ]
  },
  {
   "cell_type": "code",
   "execution_count": 24,
   "id": "96bf78aa-dcaa-42fe-af41-bdaec5e0f373",
   "metadata": {},
   "outputs": [],
   "source": [
    "actual_to_predict = actual[actual.workers_count.isnull() & ~actual.okved.isnull() & ~actual.okopf.isnull()][needed_test_cols]\n"
   ]
  },
  {
   "cell_type": "code",
   "execution_count": 25,
   "id": "22ecc656-4eda-4b9f-a1a5-458c80f91582",
   "metadata": {},
   "outputs": [],
   "source": [
    "import catboost"
   ]
  },
  {
   "cell_type": "code",
   "execution_count": 28,
   "id": "3666b003-5828-4443-9835-d8628e1f73f2",
   "metadata": {},
   "outputs": [
    {
     "data": {
      "text/plain": [
       "<catboost.core.CatBoostRegressor at 0x714c8ab9d700>"
      ]
     },
     "execution_count": 28,
     "metadata": {},
     "output_type": "execute_result"
    }
   ],
   "source": [
    "model = catboost.CatBoostRegressor()\n",
    "model.load_model('workers_count_prediction_model.cbm')"
   ]
  },
  {
   "cell_type": "code",
   "execution_count": 29,
   "id": "154b54c5-47c9-4ebc-b76d-ff8a41d70157",
   "metadata": {},
   "outputs": [],
   "source": [
    "actual_to_predict['predicted_workers_count'] = model.predict(actual_to_predict)"
   ]
  },
  {
   "cell_type": "code",
   "execution_count": 60,
   "id": "ffd091d5-5d72-4854-82da-2c475ca457da",
   "metadata": {},
   "outputs": [],
   "source": [
    "actual.loc[actual_to_predict.index, 'predicted_workers_count'] = actual_to_predict['predicted_workers_count']"
   ]
  },
  {
   "cell_type": "code",
   "execution_count": 33,
   "id": "55078a12-c8b4-4a48-ad56-338de7b230c5",
   "metadata": {},
   "outputs": [
    {
     "data": {
      "text/plain": [
       "(np.float64(19020429.0), np.float64(11251148.203448808))"
      ]
     },
     "execution_count": 33,
     "metadata": {},
     "output_type": "execute_result"
    }
   ],
   "source": [
    "actual.workers_count.sum(), actual.predicted_workers_count.sum()"
   ]
  },
  {
   "cell_type": "code",
   "execution_count": 34,
   "id": "f7ad4384-33ff-46b7-a478-0d0b6135165e",
   "metadata": {},
   "outputs": [
    {
     "data": {
      "text/plain": [
       "np.float64(30271577.20344881)"
      ]
     },
     "execution_count": 34,
     "metadata": {},
     "output_type": "execute_result"
    }
   ],
   "source": [
    "actual.workers_count.sum()+ actual.predicted_workers_count.sum()"
   ]
  },
  {
   "cell_type": "code",
   "execution_count": 50,
   "id": "f1e768fa-a1a7-40c0-9e54-30aed76ff983",
   "metadata": {},
   "outputs": [],
   "source": [
    "import numpy as np"
   ]
  },
  {
   "cell_type": "code",
   "execution_count": 69,
   "id": "1eef6206-9d72-49f4-9329-dbdb2cfeaf9e",
   "metadata": {},
   "outputs": [],
   "source": [
    "actual['predicted_workers_count'] = actual.predicted_workers_count.clip(lower=0)"
   ]
  },
  {
   "cell_type": "code",
   "execution_count": 70,
   "id": "763807a2-b687-459d-b0b6-ad7b51b74a2a",
   "metadata": {},
   "outputs": [
    {
     "data": {
      "text/plain": [
       "1                NaN\n",
       "3                NaN\n",
       "275         4.306216\n",
       "309        11.970730\n",
       "357        13.197641\n",
       "             ...    \n",
       "5038798    18.239452\n",
       "5038799          NaN\n",
       "5038800          NaN\n",
       "5038801          NaN\n",
       "5038802          NaN\n",
       "Name: predicted_workers_count, Length: 2656150, dtype: float64"
      ]
     },
     "execution_count": 70,
     "metadata": {},
     "output_type": "execute_result"
    }
   ],
   "source": [
    "actual['predicted_workers_count']"
   ]
  },
  {
   "cell_type": "code",
   "execution_count": 72,
   "id": "d09cd4ea-3539-4894-8d1e-93eb857e0af4",
   "metadata": {},
   "outputs": [],
   "source": [
    "actual['combined_workers_count'] = actual.workers_count.fillna(0) + actual.predicted_workers_count.fillna(0)"
   ]
  },
  {
   "cell_type": "code",
   "execution_count": 65,
   "id": "bc375575-d05d-4fc7-b107-091e7e4959a7",
   "metadata": {},
   "outputs": [],
   "source": [
    "# actual = pd.read_pickle('rfsd_data_with_workers_and_historical_data_and_predicted_workers_count.pck')"
   ]
  },
  {
   "cell_type": "code",
   "execution_count": 74,
   "id": "59187549-16c5-4a5f-a77a-4b2e978ceb9d",
   "metadata": {},
   "outputs": [],
   "source": [
    "actual.to_pickle('rfsd_data_with_workers_and_historical_data_and_predicted_workers_count.pck')"
   ]
  },
  {
   "cell_type": "code",
   "execution_count": 40,
   "id": "e3ea5ae3-a824-462b-856d-09c0129228e7",
   "metadata": {},
   "outputs": [
    {
     "data": {
      "text/plain": [
       "inn                                object\n",
       "year                                int32\n",
       "region                             object\n",
       "region_taxcode                   category\n",
       "age                               float64\n",
       "dissolution_date           datetime64[ms]\n",
       "filed                             float64\n",
       "okved                              object\n",
       "okved_section                    category\n",
       "okopf                              object\n",
       "okogu                              object\n",
       "okfc                               object\n",
       "lon                                object\n",
       "lat                                object\n",
       "geocoding_quality                category\n",
       "line_1230                         float64\n",
       "line_1250                         float64\n",
       "line_1500                         float64\n",
       "line_1520                         float64\n",
       "line_2110                         float64\n",
       "line_2120                         float64\n",
       "line_2200                         float64\n",
       "line_2300                         float64\n",
       "line_2350                         float64\n",
       "line_2400                         float64\n",
       "line_2500                         float64\n",
       "workers_count                     float64\n",
       "predicted_workers_count           float64\n",
       "combined_workers_count            float64\n",
       "dtype: object"
      ]
     },
     "execution_count": 40,
     "metadata": {},
     "output_type": "execute_result"
    }
   ],
   "source": [
    "actual.dtypes"
   ]
  },
  {
   "cell_type": "code",
   "execution_count": 43,
   "id": "ae1a66c5-8ee6-480b-bf7e-047c15b3ed9f",
   "metadata": {},
   "outputs": [
    {
     "data": {
      "text/plain": [
       "np.float64(19020429.0)"
      ]
     },
     "execution_count": 43,
     "metadata": {},
     "output_type": "execute_result"
    }
   ],
   "source": [
    "actual.workers_count.sum()"
   ]
  },
  {
   "cell_type": "code",
   "execution_count": 71,
   "id": "2e4edc48-1eba-4539-a6a4-eaecc463133e",
   "metadata": {},
   "outputs": [
    {
     "data": {
      "text/plain": [
       "np.float64(11516961.226479687)"
      ]
     },
     "execution_count": 71,
     "metadata": {},
     "output_type": "execute_result"
    }
   ],
   "source": [
    "actual.predicted_workers_count.sum()"
   ]
  },
  {
   "cell_type": "code",
   "execution_count": 67,
   "id": "dea57a81-b021-4f71-b966-c9e911352f4c",
   "metadata": {},
   "outputs": [
    {
     "data": {
      "text/plain": [
       "np.float64(30271577.203448817)"
      ]
     },
     "execution_count": 67,
     "metadata": {},
     "output_type": "execute_result"
    }
   ],
   "source": [
    "actual.combined_workers_count.sum()"
   ]
  },
  {
   "cell_type": "code",
   "execution_count": 73,
   "id": "ace0036c-eec2-4eb3-ab32-13382986ac98",
   "metadata": {},
   "outputs": [
    {
     "data": {
      "text/plain": [
       "np.float64(30537390.2264797)"
      ]
     },
     "execution_count": 73,
     "metadata": {},
     "output_type": "execute_result"
    }
   ],
   "source": [
    "actual.combined_workers_count.sum()"
   ]
  },
  {
   "cell_type": "code",
   "execution_count": null,
   "id": "ca2c65c6-1a00-4fed-b9a0-6f17aaed5866",
   "metadata": {},
   "outputs": [],
   "source": []
  }
 ],
 "metadata": {
  "kernelspec": {
   "display_name": "Python 3 (ipykernel)",
   "language": "python",
   "name": "python3"
  },
  "language_info": {
   "codemirror_mode": {
    "name": "ipython",
    "version": 3
   },
   "file_extension": ".py",
   "mimetype": "text/x-python",
   "name": "python",
   "nbconvert_exporter": "python",
   "pygments_lexer": "ipython3",
   "version": "3.12.8"
  }
 },
 "nbformat": 4,
 "nbformat_minor": 5
}
